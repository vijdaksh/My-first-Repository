{
 "cells": [
  {
   "cell_type": "code",
   "execution_count": 4,
   "metadata": {},
   "outputs": [],
   "source": [
    "class Student():\n",
    "    \n",
    "    def Studentdetails(self):\n",
    "        self.name = 'XYZ'\n",
    "        print('name = ',self.name)"
   ]
  },
  {
   "cell_type": "code",
   "execution_count": null,
   "metadata": {},
   "outputs": [],
   "source": [
    "# class Student():\n",
    "    \n",
    "#     def Studentdetails(self):\n",
    "#         self.name = 'XYZ'\n",
    "#         print('name = ',self.name)"
   ]
  },
  {
   "cell_type": "code",
   "execution_count": 5,
   "metadata": {},
   "outputs": [],
   "source": [
    "s1 = Student()"
   ]
  },
  {
   "cell_type": "code",
   "execution_count": 6,
   "metadata": {},
   "outputs": [
    {
     "name": "stdout",
     "output_type": "stream",
     "text": [
      "name =  XYZ\n"
     ]
    }
   ],
   "source": [
    "s1.Studentdetails()\n",
    "# Student.Studentdetails(s1)"
   ]
  },
  {
   "cell_type": "code",
   "execution_count": 7,
   "metadata": {},
   "outputs": [
    {
     "data": {
      "text/plain": [
       "{'name': 'XYZ'}"
      ]
     },
     "execution_count": 7,
     "metadata": {},
     "output_type": "execute_result"
    }
   ],
   "source": [
    "s1.__dict__"
   ]
  },
  {
   "cell_type": "code",
   "execution_count": 4,
   "metadata": {
    "scrolled": true
   },
   "outputs": [
    {
     "name": "stdout",
     "output_type": "stream",
     "text": [
      "name =  XYZ\n"
     ]
    }
   ],
   "source": [
    "Student.Studentdetails(s1)\n",
    "#class_name function (objectname)"
   ]
  },
  {
   "cell_type": "code",
   "execution_count": 17,
   "metadata": {
    "scrolled": true
   },
   "outputs": [
    {
     "name": "stdout",
     "output_type": "stream",
     "text": [
      "name =  XYZ\n",
      "percentage= 70\n"
     ]
    }
   ],
   "source": [
    "class Student():\n",
    "    \n",
    "    def Studentdetails(abc):\n",
    "        abc.name = 'XYZ'\n",
    "        percentage = 70\n",
    "        print('name = ',abc.name)\n",
    "        print('percentage=',percentage)\n",
    "        pass\n",
    "    \n",
    "s1 = Student()\n",
    "s1.Studentdetails()"
   ]
  },
  {
   "cell_type": "code",
   "execution_count": 10,
   "metadata": {},
   "outputs": [
    {
     "data": {
      "text/plain": [
       "{'name': 'XYZ'}"
      ]
     },
     "execution_count": 10,
     "metadata": {},
     "output_type": "execute_result"
    }
   ],
   "source": [
    "s1.__dict__"
   ]
  },
  {
   "cell_type": "code",
   "execution_count": 26,
   "metadata": {
    "scrolled": false
   },
   "outputs": [
    {
     "name": "stdout",
     "output_type": "stream",
     "text": [
      "name =  XYZ\n",
      "percentage= 70\n",
      "Student is passed\n"
     ]
    }
   ],
   "source": [
    "class Student():\n",
    "    \n",
    "    def Studentdetails(self):\n",
    "        self.name = 'XYZ'\n",
    "        self.passingPercentage = 70\n",
    "        print('name = ',self.name)\n",
    "        print('percentage=',self.passingPercentage)\n",
    "        pass\n",
    "    \n",
    "    def isPassed(self,percentage):\n",
    "        if percentage > self.passingPercentage:\n",
    "            print('Student is passed')\n",
    "        else:\n",
    "            print('not passed')\n",
    "        \n",
    "    \n",
    "    \n",
    "s1 = Student()\n",
    "s1.Studentdetails()\n",
    "s1.isPassed(71)\n",
    "# student.ispassed(s1)\n",
    "\n",
    "#due to percentage is local attribute rather than a instance attribute."
   ]
  },
  {
   "cell_type": "code",
   "execution_count": 27,
   "metadata": {},
   "outputs": [
    {
     "name": "stdout",
     "output_type": "stream",
     "text": [
      "name =  XYZ\n",
      "percentage= 70\n",
      "Student is passed\n"
     ]
    }
   ],
   "source": [
    "class Student():\n",
    "    \n",
    "    passingPercentage = 40\n",
    "    \n",
    "    def Studentdetails(self):\n",
    "        self.name = 'XYZ'\n",
    "        self.percentage = 70\n",
    "        print('name = ',self.name)\n",
    "        print('percentage=',self.percentage)\n",
    "        pass\n",
    "    \n",
    "    def isPassed(self):\n",
    "        if self.percentage > Student.passingPercentage:\n",
    "            print('Student is passed')\n",
    "        else:\n",
    "            print('not passed')\n",
    "            \n",
    "\n",
    "    \n",
    "            \n",
    "s1 = Student()\n",
    "s1.Studentdetails()\n",
    "s1.isPassed()                    "
   ]
  }
 ],
 "metadata": {
  "kernelspec": {
   "display_name": "Python 3 (ipykernel)",
   "language": "python",
   "name": "python3"
  },
  "language_info": {
   "codemirror_mode": {
    "name": "ipython",
    "version": 3
   },
   "file_extension": ".py",
   "mimetype": "text/x-python",
   "name": "python",
   "nbconvert_exporter": "python",
   "pygments_lexer": "ipython3",
   "version": "3.11.5"
  }
 },
 "nbformat": 4,
 "nbformat_minor": 4
}
